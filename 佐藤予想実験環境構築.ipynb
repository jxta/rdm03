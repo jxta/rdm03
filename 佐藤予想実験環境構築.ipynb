{
 "cells": [
  {
   "cell_type": "markdown",
   "metadata": {
    "lc_cell_meme": {
     "current": "e190f930-4574-11e9-b072-0242ac110002-1-19f5",
     "history": [
      {
       "current": "e190f930-4574-11e9-b072-0242ac110002",
       "next": "e190f994-4574-11e9-b072-0242ac110002",
       "previous": null
      },
      {
       "current": "e190f930-4574-11e9-b072-0242ac110002",
       "next": "57c2ff04-462e-11e9-b072-0242ac110002",
       "previous": null
      },
      {
       "current": "e190f930-4574-11e9-b072-0242ac110002",
       "next": "e6d37b42-462e-11e9-b072-0242ac110002",
       "previous": null
      },
      {
       "current": "e190f930-4574-11e9-b072-0242ac110002",
       "next": "bdc94ac4-4633-11e9-b072-0242ac110002",
       "previous": null
      },
      {
       "current": "e190f930-4574-11e9-b072-0242ac110002",
       "next": "64ffcf54-8cb4-11e9-88da-0242ac110002",
       "previous": null
      },
      {
       "current": "e190f930-4574-11e9-b072-0242ac110002-1-19f5",
       "next": "4cb01526-2502-11ea-9618-0242ac110002",
       "previous": null
      }
     ],
     "next": "4cb01526-2502-11ea-9618-0242ac110002-1-af02",
     "previous": null
    }
   },
   "source": [
    "※ このNotebookでは、動作確認のためにNotebook経由でVCノードの起動と削除を実施します。\n"
   ]
  },
  {
   "cell_type": "markdown",
   "metadata": {
    "lc_cell_meme": {
     "current": "4cb01526-2502-11ea-9618-0242ac110002-1-af02",
     "execution_end_time": "2019-12-22T21:30:49.316386Z",
     "history": [
      {
       "current": "4cb01526-2502-11ea-9618-0242ac110002-1-af02",
       "next": "64ffcf54-8cb4-11e9-88da-0242ac110002",
       "previous": "e190f930-4574-11e9-b072-0242ac110002"
      }
     ],
     "next": "64ffcf54-8cb4-11e9-88da-0242ac110002-1-6eff",
     "previous": "e190f930-4574-11e9-b072-0242ac110002-1-19f5"
    },
    "lc_wrapper": {
     "log_history": [
      "/notebooks/notebook/wada_work/.log/20191223/20191223-063049-0311.log"
     ]
    }
   },
   "source": [
    "# 初期設定"
   ]
  },
  {
   "cell_type": "markdown",
   "metadata": {
    "lc_cell_meme": {
     "current": "64ffcf54-8cb4-11e9-88da-0242ac110002-1-6eff",
     "history": [
      {
       "current": "64ffcf54-8cb4-11e9-88da-0242ac110002",
       "next": "bdc94ac4-4633-11e9-b072-0242ac110002",
       "previous": "e190f930-4574-11e9-b072-0242ac110002"
      },
      {
       "current": "64ffcf54-8cb4-11e9-88da-0242ac110002-1-6eff",
       "next": "bdc94ac4-4633-11e9-b072-0242ac110002",
       "previous": "4cb01526-2502-11ea-9618-0242ac110002"
      }
     ],
     "next": "bdc94ac4-4633-11e9-b072-0242ac110002-1-bac3",
     "previous": "4cb01526-2502-11ea-9618-0242ac110002-1-af02"
    }
   },
   "source": [
    "## 環境設定ファイル `vcp_config.yml` の編集"
   ]
  },
  {
   "cell_type": "markdown",
   "metadata": {
    "lc_cell_meme": {
     "current": "bdc94ac4-4633-11e9-b072-0242ac110002-1-bac3",
     "history": [
      {
       "current": "bdc94ac4-4633-11e9-b072-0242ac110002",
       "next": "57c2ff04-462e-11e9-b072-0242ac110002",
       "previous": "e6d37b42-462e-11e9-b072-0242ac110002"
      },
      {
       "current": "bdc94ac4-4633-11e9-b072-0242ac110002",
       "next": "e6d37b42-462e-11e9-b072-0242ac110002",
       "previous": "e190f930-4574-11e9-b072-0242ac110002"
      },
      {
       "current": "bdc94ac4-4633-11e9-b072-0242ac110002-1-bac3",
       "next": "e6d37b42-462e-11e9-b072-0242ac110002",
       "previous": "64ffcf54-8cb4-11e9-88da-0242ac110002"
      }
     ],
     "next": "e6d37b42-462e-11e9-b072-0242ac110002-1-0e5e",
     "previous": "64ffcf54-8cb4-11e9-88da-0242ac110002-1-6eff"
    }
   },
   "source": [
    "VCP SDKを使用するには、VCコントローラの情報と、VMwareのログイン情報が必要となります。\n",
    "\n",
    "設定は `vcpsdk/vcpsdk/config/vcp_config.yml` に記述します。以下の内容を記述してください。\n",
    "\n",
    "- VCコントローラのIPアドレス\n",
    "- VCコントローラの識別名\n",
    "- VMwareのログインユーザ名の vaultへの格納先\n",
    "- VMwareのログインパスワードの vaultへの格納先\n",
    "\n",
    "\n",
    "```\n",
    "#\n",
    "# VCコントローラ情報\n",
    "#\n",
    "vcc:\n",
    "    host: x.x.x.x #VCコントローラ IPアドレス\n",
    "    name: xxxx  #VCコントローラ識別名\n",
    "#\n",
    "# VMware の設定\n",
    "#\n",
    "vmware:\n",
    "    user: \"vault://cubbyhole/vmware/user\"\n",
    "    password: \"vault://cubbyhole/vmware/password\"\n",
    "    private_network: \"default\"\n",
    "    \n",
    "```\n",
    "\n",
    "VMwareのログインユーザ名・パスワードなどの認証情報は、HashiCorp Vaultを使用して管理します。Valutについての詳細は、[秘密情報管理サーバの利用](/jupyter/notebooks/hands-on/vcp-tutorial/102-%E7%A7%98%E5%AF%86%E6%83%85%E5%A0%B1%E7%AE%A1%E7%90%86%E3%82%B5%E3%83%BC%E3%83%90%E3%81%AE%E5%88%A9%E7%94%A8.ipynb)を参考にしてください。\n"
   ]
  },
  {
   "cell_type": "code",
   "execution_count": null,
   "metadata": {
    "lc_cell_meme": {
     "current": "e6d37b42-462e-11e9-b072-0242ac110002-1-0e5e",
     "history": [
      {
       "current": "e6d37b42-462e-11e9-b072-0242ac110002",
       "next": "57c2ff04-462e-11e9-b072-0242ac110002",
       "previous": "e190f930-4574-11e9-b072-0242ac110002"
      },
      {
       "current": "e6d37b42-462e-11e9-b072-0242ac110002",
       "next": "bdc94ac4-4633-11e9-b072-0242ac110002",
       "previous": "e190f930-4574-11e9-b072-0242ac110002"
      },
      {
       "current": "e6d37b42-462e-11e9-b072-0242ac110002",
       "next": "bdc94ac4-4633-11e9-b072-0242ac110002",
       "previous": "bdc94ac4-4633-11e9-b072-0242ac110002"
      },
      {
       "current": "e6d37b42-462e-11e9-b072-0242ac110002",
       "next": "ac86c904-8cb4-11e9-88da-0242ac110002",
       "previous": "bdc94ac4-4633-11e9-b072-0242ac110002"
      },
      {
       "current": "e6d37b42-462e-11e9-b072-0242ac110002-1-0e5e",
       "next": "052b8d66-2502-11ea-9618-0242ac110002",
       "previous": "bdc94ac4-4633-11e9-b072-0242ac110002"
      }
     ],
     "next": "052b8d66-2502-11ea-9618-0242ac110002-1-1941",
     "previous": "bdc94ac4-4633-11e9-b072-0242ac110002-1-bac3"
    },
    "lc_wrapper": {
     "log_history": [
      "/notebooks/notebook/wada_work/.log/20191223/20191223-062419-0775.log",
      "/notebooks/notebook/.log/20200129/20200129-162818-0750.log",
      "/notebooks/notebook/.log/20200312/20200312-163610-0697.log",
      "/notebooks/notebook/.log/20200716/20200716-115251-0674.log",
      "/notebooks/notebook/kanda/.log/20200804/20200804-010238-0450.log"
     ]
    },
    "pinned_outputs": []
   },
   "outputs": [],
   "source": [
    "# vcp_config.yml の編集用ボタン表示\n",
    "!cp /notebooks/notebook/vcpsdk/vcpsdk/config/sample-vcp_config.yml /notebooks/notebook/vcpsdk/vcpsdk/config/vcp_config.yml\n",
    "\n",
    "\n",
    "import os\n",
    "\n",
    "config_url = \"/{}/edit/vcpsdk/vcpsdk/config/vcp_config.yml\".format(os.environ['SUBDIR'])\n",
    "from IPython.core.display import HTML\n",
    "\n",
    "style= \"text-decoration: none;\\\n",
    "padding: 4px 8px;border: solid 2px #ddf; color: #fff;\\\n",
    "font-size: 20px;\\\n",
    "font-weight: bold;\\\n",
    "background-color: rgb(100, 149, 237);\"\n",
    "HTML('<a style=\"{}\" target=\"new\" href=\"{}\">vcp_config.ymlを編集</a>'.\n",
    "     format(style, config_url))"
   ]
  },
  {
   "cell_type": "markdown",
   "metadata": {
    "lc_cell_meme": {
     "current": "052b8d66-2502-11ea-9618-0242ac110002-1-1941",
     "execution_end_time": "2019-12-22T21:27:19.773058Z",
     "history": [
      {
       "current": "052b8d66-2502-11ea-9618-0242ac110002-1-1941",
       "next": "052b8f5a-2502-11ea-9618-0242ac110002",
       "previous": "e6d37b42-462e-11e9-b072-0242ac110002"
      }
     ],
     "next": "052b8f5a-2502-11ea-9618-0242ac110002-1-38c6",
     "previous": "e6d37b42-462e-11e9-b072-0242ac110002-1-0e5e"
    },
    "lc_wrapper": {
     "log_history": [
      "/notebooks/notebook/wada_work/.log/20191223/20191223-062719-0768.log"
     ]
    }
   },
   "source": [
    "## アクセストークンの発行\n",
    "\n",
    "VCP SDKを利用するためにはVCP REST APIアクセストークンが必要となります。  \n",
    "まず、管理者用 Web UI にログインして、新規にアクセストークンを発行してください。\n",
    "\n",
    "[<font size=\"+1\">**管理者用 Web UI ログイン**</font>](https://tokyo01.vcloud.nii.ac.jp/vcp/v1/ui/occmgr/menu)\n",
    "\n",
    "管理者用Web UIの利用方法の詳細についてはユーザーズマニュアルをご参照ください。"
   ]
  },
  {
   "cell_type": "markdown",
   "metadata": {
    "lc_cell_meme": {
     "current": "052b8f5a-2502-11ea-9618-0242ac110002-1-38c6",
     "execution_end_time": "2019-12-22T21:28:34.048690Z",
     "history": [
      {
       "current": "052b8f5a-2502-11ea-9618-0242ac110002",
       "next": "ac86c904-8cb4-11e9-88da-0242ac110002",
       "previous": "052b8d66-2502-11ea-9618-0242ac110002"
      },
      {
       "current": "052b8f5a-2502-11ea-9618-0242ac110002-1-38c6",
       "next": "4cb016c0-2502-11ea-9618-0242ac110002",
       "previous": "052b8d66-2502-11ea-9618-0242ac110002"
      }
     ],
     "next": "4cb016c0-2502-11ea-9618-0242ac110002-1-640d",
     "previous": "052b8d66-2502-11ea-9618-0242ac110002-1-1941"
    },
    "lc_wrapper": {
     "log_history": [
      "/notebooks/notebook/wada_work/.log/20191223/20191223-062834-0044.log"
     ]
    }
   },
   "source": [
    "## Vaultへのクレデンシャル情報の設定\n",
    "\n",
    "以下のクレデンシャル情報を変更し、Jupyter Notebook サーバのTerminalに張り付け実行してください。  \n",
    "Vaultではアクセストークンごとに格納先が異なるので、アクセストークンを使用する利用者がそれぞれ実行してください。"
   ]
  },
  {
   "cell_type": "markdown",
   "metadata": {
    "lc_cell_meme": {
     "current": "4cb016c0-2502-11ea-9618-0242ac110002-1-640d",
     "history": [
      {
       "current": "4cb016c0-2502-11ea-9618-0242ac110002",
       "next": "ac86c904-8cb4-11e9-88da-0242ac110002",
       "previous": "052b8f5a-2502-11ea-9618-0242ac110002"
      },
      {
       "current": "4cb016c0-2502-11ea-9618-0242ac110002-1-640d",
       "next": "dbc0898a-2502-11ea-9618-0242ac110002",
       "previous": "052b8f5a-2502-11ea-9618-0242ac110002"
      }
     ],
     "next": "dbc0898a-2502-11ea-9618-0242ac110002-1-0338",
     "previous": "052b8f5a-2502-11ea-9618-0242ac110002-1-38c6"
    }
   },
   "source": [
    "```\n",
    "cat << 'EOF' > post_vault.sh\n",
    "#!/bin/bash\n",
    "\n",
    "VCP_TOKEN=VCPマネージャで発行したアクセストークン\n",
    "VMWARE_USER=VMwareのログインユーザ名\n",
    "VMWARE_PASSWORD=VMwareのログインパスワード\n",
    "\n",
    "curl -H \"X-Vault-Token: ${VCP_TOKEN}\" -X POST https://133.8.140.6:8443/v1/cubbyhole/vmware/user -d \"{\\\"value\\\":\\\"${VMWARE_USER}\\\"}\"\n",
    "curl -H \"X-Vault-Token: ${VCP_TOKEN}\" -X POST https://133.8.140.6:8443/v1/cubbyhole/vmware/password -d \"{\\\"value\\\": \\\"${VMWARE_PASSWORD}\\\"}\"\n",
    "EOF\n",
    "\n",
    "sh post_vault.sh\n",
    "rm post_vault.sh\n",
    "```"
   ]
  },
  {
   "cell_type": "markdown",
   "metadata": {
    "lc_cell_meme": {
     "current": "dbc0898a-2502-11ea-9618-0242ac110002-1-0338",
     "execution_end_time": "2019-12-22T21:33:13.138722Z",
     "history": [
      {
       "current": "dbc0898a-2502-11ea-9618-0242ac110002-1-0338",
       "next": "dbc08b10-2502-11ea-9618-0242ac110002",
       "previous": "4cb016c0-2502-11ea-9618-0242ac110002"
      }
     ],
     "next": "dbc08b10-2502-11ea-9618-0242ac110002-1-f6f8",
     "previous": "4cb016c0-2502-11ea-9618-0242ac110002-1-640d"
    },
    "lc_wrapper": {
     "log_history": [
      "/notebooks/notebook/wada_work/.log/20191223/20191223-063313-0134.log"
     ]
    }
   },
   "source": [
    "## ssh公開鍵の作成\n",
    "\n",
    "Jupyter Notebook サーバからVCノードに ssh 接続するために、ssh キーペアを作成しておきます。"
   ]
  },
  {
   "cell_type": "code",
   "execution_count": null,
   "metadata": {
    "lc_cell_meme": {
     "current": "dbc08b10-2502-11ea-9618-0242ac110002-1-f6f8",
     "history": [
      {
       "current": "dbc08b10-2502-11ea-9618-0242ac110002",
       "next": "ac86c904-8cb4-11e9-88da-0242ac110002",
       "previous": "dbc0898a-2502-11ea-9618-0242ac110002"
      },
      {
       "current": "dbc08b10-2502-11ea-9618-0242ac110002-1-f6f8",
       "next": "236c8a68-2503-11ea-9618-0242ac110002",
       "previous": "dbc0898a-2502-11ea-9618-0242ac110002"
      }
     ],
     "next": "236c8a68-2503-11ea-9618-0242ac110002-1-f6ca",
     "previous": "dbc0898a-2502-11ea-9618-0242ac110002-1-0338"
    },
    "lc_wrapper": {
     "log_history": [
      "/notebooks/notebook/.log/20200129/20200129-233633-0362.log",
      "/notebooks/notebook/.log/20200130/20200130-125330-0659.log",
      "/notebooks/notebook/.log/20200130/20200130-142451-0011.log",
      "/notebooks/notebook/.log/20200313/20200313-155734-0428.log",
      "/notebooks/notebook/kanda/.log/20200804/20200804-145402-0613.log",
      "/notebooks/notebook/kanda/.log/20200804/20200804-150346-0733.log"
     ]
    }
   },
   "outputs": [],
   "source": [
    "# 動作確認用SSHキーペア作成\n",
    "!mkdir -p ~/.ssh\n",
    "!test -f ~/.ssh/id_rsa || ssh-keygen -t rsa -f ~/.ssh/id_rsa -N \"\""
   ]
  },
  {
   "cell_type": "markdown",
   "metadata": {
    "lc_cell_meme": {
     "current": "236c8a68-2503-11ea-9618-0242ac110002-1-f6ca",
     "execution_end_time": "2019-12-22T21:35:47.209344Z",
     "history": [
      {
       "current": "236c8a68-2503-11ea-9618-0242ac110002",
       "next": "ac86c904-8cb4-11e9-88da-0242ac110002",
       "previous": "dbc08b10-2502-11ea-9618-0242ac110002"
      },
      {
       "current": "236c8a68-2503-11ea-9618-0242ac110002-1-f6ca",
       "next": "4161c992-2504-11ea-9618-0242ac110002",
       "previous": "dbc08b10-2502-11ea-9618-0242ac110002"
      }
     ],
     "next": "4161c992-2504-11ea-9618-0242ac110002-1-d49b",
     "previous": "dbc08b10-2502-11ea-9618-0242ac110002-1-f6f8"
    },
    "lc_wrapper": {
     "log_history": [
      "/notebooks/notebook/wada_work/.log/20191223/20191223-063547-0205.log"
     ]
    }
   },
   "source": [
    "## `vcp_flavor.yml`\n",
    "\n",
    "flavor (CPU数, メモリサイズ など、VMの仮想ハードウェアの設定を抽象化したもの) を定義するファイルです。  \n",
    "設定は `vcpsdk/vcpsdk/config/vcp_flavor.yml` に記述します。\n",
    "\n",
    "デフォルトで設定された定義がすでにありますが、必要であれば利用者ごとにカスタマイズしてご使用ください。\n",
    "\n",
    "記述方法は各クラウドプロバイダ毎に違います。詳細は[VCP SDK マニュアル](https://meatwiki.nii.ac.jp/confluence/pages/viewpage.action?pageId=29239877)の以下の項目をご確認ください。  \n",
    "       \n",
    "- 1.6.3. flavor\n",
    "- 2.15. SDK plugins for VMware (vcpsdk/plugins/vmware)\n",
    "\n",
    "※ 上記マニュアルのpluginの説明のように、VCP SDKでのspec、disk specの仕様に関しましても各クラウドプロバイダ毎に違いがあります。\n",
    "\n",
    "※ この動作確認では、デフォルトのフレーバー設定を使用して進めます。  \n"
   ]
  },
  {
   "cell_type": "markdown",
   "metadata": {
    "lc_cell_meme": {
     "current": "4161c992-2504-11ea-9618-0242ac110002-1-d49b",
     "execution_end_time": "2019-12-22T21:43:14.706676Z",
     "history": [
      {
       "current": "4161c992-2504-11ea-9618-0242ac110002-1-d49b",
       "next": "ac86c904-8cb4-11e9-88da-0242ac110002",
       "previous": "236c8a68-2503-11ea-9618-0242ac110002"
      }
     ],
     "next": "ac86c904-8cb4-11e9-88da-0242ac110002-1-30ef",
     "previous": "236c8a68-2503-11ea-9618-0242ac110002-1-f6ca"
    },
    "lc_wrapper": {
     "log_history": [
      "/notebooks/notebook/wada_work/.log/20191223/20191223-064306-0539.log",
      "/notebooks/notebook/wada_work/.log/20191223/20191223-064314-0702.log"
     ]
    }
   },
   "source": [
    "# VCノードの作成と削除"
   ]
  },
  {
   "cell_type": "markdown",
   "metadata": {
    "lc_cell_meme": {
     "current": "ac86c904-8cb4-11e9-88da-0242ac110002-1-30ef",
     "history": [
      {
       "current": "ac86c904-8cb4-11e9-88da-0242ac110002",
       "next": "bdc94ac4-4633-11e9-b072-0242ac110002",
       "previous": "e6d37b42-462e-11e9-b072-0242ac110002"
      },
      {
       "current": "ac86c904-8cb4-11e9-88da-0242ac110002",
       "next": "bdc94ac4-4633-11e9-b072-0242ac110002",
       "previous": "052b8f5a-2502-11ea-9618-0242ac110002"
      },
      {
       "current": "ac86c904-8cb4-11e9-88da-0242ac110002",
       "next": "bdc94ac4-4633-11e9-b072-0242ac110002",
       "previous": "4cb016c0-2502-11ea-9618-0242ac110002"
      },
      {
       "current": "ac86c904-8cb4-11e9-88da-0242ac110002",
       "next": "bdc94ac4-4633-11e9-b072-0242ac110002",
       "previous": "dbc08b10-2502-11ea-9618-0242ac110002"
      },
      {
       "current": "ac86c904-8cb4-11e9-88da-0242ac110002",
       "next": "bdc94ac4-4633-11e9-b072-0242ac110002",
       "previous": "236c8a68-2503-11ea-9618-0242ac110002"
      },
      {
       "current": "ac86c904-8cb4-11e9-88da-0242ac110002-1-30ef",
       "next": "bdc94ac4-4633-11e9-b072-0242ac110002",
       "previous": "4161c992-2504-11ea-9618-0242ac110002"
      }
     ],
     "next": "bdc94ac4-4633-11e9-b072-0242ac110002-1-f3df",
     "previous": "4161c992-2504-11ea-9618-0242ac110002-1-d49b"
    }
   },
   "source": [
    "## VCP SDK の初期化"
   ]
  },
  {
   "cell_type": "markdown",
   "metadata": {
    "lc_cell_meme": {
     "current": "bdc94ac4-4633-11e9-b072-0242ac110002-1-f3df",
     "history": [
      {
       "current": "bdc94ac4-4633-11e9-b072-0242ac110002",
       "next": "57c2ff04-462e-11e9-b072-0242ac110002",
       "previous": "e6d37b42-462e-11e9-b072-0242ac110002"
      },
      {
       "current": "bdc94ac4-4633-11e9-b072-0242ac110002-1-f3df",
       "next": "57c2ff04-462e-11e9-b072-0242ac110002",
       "previous": "ac86c904-8cb4-11e9-88da-0242ac110002"
      }
     ],
     "next": "57c2ff04-462e-11e9-b072-0242ac110002-1-56b8",
     "previous": "ac86c904-8cb4-11e9-88da-0242ac110002-1-30ef"
    }
   },
   "source": [
    "VCP SDK を使用ために、はじめにアクセストークンを使用して VCP SDKを初期化してください。  \n",
    "次のセルを実行すると、VCコントローラのアクセストークンの入力枠が表示されます。  \n",
    "アクセストークンの値を入力し、Enterキーを押すことで初期化が完了します。"
   ]
  },
  {
   "cell_type": "code",
   "execution_count": null,
   "metadata": {
    "lc_cell_meme": {
     "current": "57c2ff04-462e-11e9-b072-0242ac110002-1-56b8",
     "history": [
      {
       "current": "57c2ff04-462e-11e9-b072-0242ac110002",
       "next": "e190f994-4574-11e9-b072-0242ac110002",
       "previous": "e190f930-4574-11e9-b072-0242ac110002"
      },
      {
       "current": "57c2ff04-462e-11e9-b072-0242ac110002",
       "next": "e190f994-4574-11e9-b072-0242ac110002",
       "previous": "e6d37b42-462e-11e9-b072-0242ac110002"
      },
      {
       "current": "57c2ff04-462e-11e9-b072-0242ac110002",
       "next": "4c72da28-4630-11e9-b072-0242ac110002",
       "previous": "e6d37b42-462e-11e9-b072-0242ac110002"
      },
      {
       "current": "57c2ff04-462e-11e9-b072-0242ac110002",
       "next": "4c72da28-4630-11e9-b072-0242ac110002",
       "previous": "bdc94ac4-4633-11e9-b072-0242ac110002"
      },
      {
       "current": "57c2ff04-462e-11e9-b072-0242ac110002",
       "next": "bdc94ac4-4633-11e9-b072-0242ac110002",
       "previous": "bdc94ac4-4633-11e9-b072-0242ac110002"
      },
      {
       "current": "57c2ff04-462e-11e9-b072-0242ac110002",
       "next": "ac86ca12-8cb4-11e9-88da-0242ac110002",
       "previous": "bdc94ac4-4633-11e9-b072-0242ac110002"
      },
      {
       "current": "57c2ff04-462e-11e9-b072-0242ac110002-1-56b8",
       "next": "bdc94ac4-4633-11e9-b072-0242ac110002",
       "previous": "bdc94ac4-4633-11e9-b072-0242ac110002"
      }
     ],
     "next": "bdc94ac4-4633-11e9-b072-0242ac110002-1-c6ba",
     "previous": "bdc94ac4-4633-11e9-b072-0242ac110002-1-f3df"
    },
    "lc_wrapper": {
     "log_history": [
      "/notebooks/notebook/.log/20191230/20191230-220748-0390.log",
      "/notebooks/notebook/.log/20200129/20200129-233705-0123.log",
      "/notebooks/notebook/.log/20200130/20200130-125339-0848.log",
      "/notebooks/notebook/.log/20200130/20200130-142456-0726.log",
      "/notebooks/notebook/.log/20200313/20200313-160003-0132.log",
      "/notebooks/notebook/.log/20200313/20200313-162108-0434.log",
      "/notebooks/notebook/.log/20200313/20200313-200550-0163.log",
      "/notebooks/notebook/.log/20200314/20200314-004147-0571.log",
      "/notebooks/notebook/.log/20200315/20200315-005728-0272.log",
      "/notebooks/notebook/.log/20200315/20200315-105559-0944.log",
      "/notebooks/notebook/kanda/.log/20200804/20200804-145416-0315.log"
     ]
    }
   },
   "outputs": [],
   "source": [
    "from getpass import getpass\n",
    "vcc_access_token = getpass()\n",
    "\n",
    "from common import logsetting\n",
    "from vcpsdk.vcpsdk import VcpSDK\n",
    "\n",
    "# VCP SDKの初期化\n",
    "vcp = VcpSDK(\n",
    "    vcc_access_token,  # VC Controllerのアクセストークン\n",
    ")\n",
    "\n",
    "vcp.version()\n"
   ]
  },
  {
   "cell_type": "markdown",
   "metadata": {
    "lc_cell_meme": {
     "current": "bdc94ac4-4633-11e9-b072-0242ac110002-1-c6ba",
     "history": [
      {
       "current": "bdc94ac4-4633-11e9-b072-0242ac110002",
       "next": "57c2ff04-462e-11e9-b072-0242ac110002",
       "previous": "e6d37b42-462e-11e9-b072-0242ac110002"
      },
      {
       "current": "bdc94ac4-4633-11e9-b072-0242ac110002",
       "next": "57c2ff04-462e-11e9-b072-0242ac110002",
       "previous": "ac86c904-8cb4-11e9-88da-0242ac110002"
      },
      {
       "current": "bdc94ac4-4633-11e9-b072-0242ac110002-1-c6ba",
       "next": "ac86ca12-8cb4-11e9-88da-0242ac110002",
       "previous": "57c2ff04-462e-11e9-b072-0242ac110002"
      }
     ],
     "next": "ac86ca12-8cb4-11e9-88da-0242ac110002-1-aa11",
     "previous": "57c2ff04-462e-11e9-b072-0242ac110002-1-56b8"
    }
   },
   "source": [
    "### もしエラーが発生したら...\n",
    "\n",
    "- `Exception: ('VCP', 'config vc failed')` ... 使われたアクセストークンが正しくない\n",
    "- `Exception: ('VCP', 'server error')` ... VCコントローラのIPアドレス設定が正しくないか、ネットワーク接続エラーが発生している"
   ]
  },
  {
   "cell_type": "markdown",
   "metadata": {
    "lc_cell_meme": {
     "current": "ac86ca12-8cb4-11e9-88da-0242ac110002-1-aa11",
     "history": [
      {
       "current": "ac86ca12-8cb4-11e9-88da-0242ac110002",
       "next": "bdc94ac4-4633-11e9-b072-0242ac110002",
       "previous": "57c2ff04-462e-11e9-b072-0242ac110002"
      },
      {
       "current": "ac86ca12-8cb4-11e9-88da-0242ac110002-1-aa11",
       "next": "bdc94ac4-4633-11e9-b072-0242ac110002",
       "previous": "bdc94ac4-4633-11e9-b072-0242ac110002"
      }
     ],
     "next": "bdc94ac4-4633-11e9-b072-0242ac110002-1-9b75",
     "previous": "bdc94ac4-4633-11e9-b072-0242ac110002-1-c6ba"
    }
   },
   "source": [
    "## VCノードの起動"
   ]
  },
  {
   "cell_type": "markdown",
   "metadata": {
    "lc_cell_meme": {
     "current": "bdc94ac4-4633-11e9-b072-0242ac110002-1-9b75",
     "history": [
      {
       "current": "bdc94ac4-4633-11e9-b072-0242ac110002",
       "next": "57c2ff04-462e-11e9-b072-0242ac110002",
       "previous": "e6d37b42-462e-11e9-b072-0242ac110002"
      },
      {
       "current": "bdc94ac4-4633-11e9-b072-0242ac110002",
       "next": "4c72da28-4630-11e9-b072-0242ac110002",
       "previous": "57c2ff04-462e-11e9-b072-0242ac110002"
      },
      {
       "current": "bdc94ac4-4633-11e9-b072-0242ac110002",
       "next": "4c72da28-4630-11e9-b072-0242ac110002",
       "previous": "ac86ca12-8cb4-11e9-88da-0242ac110002"
      },
      {
       "current": "bdc94ac4-4633-11e9-b072-0242ac110002",
       "next": "9c9b5d82-8ccf-11e9-88da-0242ac110002",
       "previous": "ac86ca12-8cb4-11e9-88da-0242ac110002"
      },
      {
       "current": "bdc94ac4-4633-11e9-b072-0242ac110002",
       "next": "4c72da28-4630-11e9-b072-0242ac110002",
       "previous": "ac86ca12-8cb4-11e9-88da-0242ac110002"
      },
      {
       "current": "bdc94ac4-4633-11e9-b072-0242ac110002",
       "next": "2783394e-8e81-11e9-88da-0242ac110002",
       "previous": "ac86ca12-8cb4-11e9-88da-0242ac110002"
      },
      {
       "current": "bdc94ac4-4633-11e9-b072-0242ac110002-1-9b75",
       "next": "4c72da28-4630-11e9-b072-0242ac110002",
       "previous": "ac86ca12-8cb4-11e9-88da-0242ac110002"
      }
     ],
     "next": "4c72da28-4630-11e9-b072-0242ac110002-1-5b9f",
     "previous": "ac86ca12-8cb4-11e9-88da-0242ac110002-1-aa11"
    }
   },
   "source": [
    "次のセルを実行し、動作確認用のVCノードを1個作成します。  \n",
    "クラウドのインスタンスを起動してVCノード用の初期設定を行うため、実行完了まで数分程度を要します。"
   ]
  },
  {
   "cell_type": "code",
   "execution_count": null,
   "metadata": {
    "lc_cell_meme": {
     "current": "4c72da28-4630-11e9-b072-0242ac110002-1-5b9f",
     "history": [
      {
       "current": "4c72da28-4630-11e9-b072-0242ac110002",
       "next": "e190f994-4574-11e9-b072-0242ac110002",
       "previous": "57c2ff04-462e-11e9-b072-0242ac110002"
      },
      {
       "current": "4c72da28-4630-11e9-b072-0242ac110002",
       "next": "93f97118-4630-11e9-b072-0242ac110002",
       "previous": "57c2ff04-462e-11e9-b072-0242ac110002"
      },
      {
       "current": "4c72da28-4630-11e9-b072-0242ac110002",
       "next": "a421b3ce-4636-11e9-b072-0242ac110002",
       "previous": "57c2ff04-462e-11e9-b072-0242ac110002"
      },
      {
       "current": "4c72da28-4630-11e9-b072-0242ac110002",
       "next": "a421b3ce-4636-11e9-b072-0242ac110002",
       "previous": "bdc94ac4-4633-11e9-b072-0242ac110002"
      },
      {
       "current": "4c72da28-4630-11e9-b072-0242ac110002",
       "next": "9c9b5ed6-8ccf-11e9-88da-0242ac110002",
       "previous": "9c9b5d82-8ccf-11e9-88da-0242ac110002"
      },
      {
       "current": "4c72da28-4630-11e9-b072-0242ac110002",
       "next": "e42198f6-8ccf-11e9-88da-0242ac110002",
       "previous": "bdc94ac4-4633-11e9-b072-0242ac110002"
      },
      {
       "current": "4c72da28-4630-11e9-b072-0242ac110002",
       "next": "7330f6e0-8cd0-11e9-88da-0242ac110002",
       "previous": "bdc94ac4-4633-11e9-b072-0242ac110002"
      },
      {
       "current": "4c72da28-4630-11e9-b072-0242ac110002",
       "next": "7330f6e0-8cd0-11e9-88da-0242ac110002",
       "previous": "2783394e-8e81-11e9-88da-0242ac110002"
      },
      {
       "current": "4c72da28-4630-11e9-b072-0242ac110002",
       "next": "7330f6e0-8cd0-11e9-88da-0242ac110002",
       "previous": "fe18a6d8-8e81-11e9-88da-0242ac110002"
      },
      {
       "current": "4c72da28-4630-11e9-b072-0242ac110002",
       "next": "7330f6e0-8cd0-11e9-88da-0242ac110002",
       "previous": "2783394e-8e81-11e9-88da-0242ac110002"
      },
      {
       "current": "4c72da28-4630-11e9-b072-0242ac110002",
       "next": "7330f6e0-8cd0-11e9-88da-0242ac110002",
       "previous": "8df69e8c-998a-11e9-88da-0242ac110002"
      },
      {
       "current": "4c72da28-4630-11e9-b072-0242ac110002",
       "next": "7330f6e0-8cd0-11e9-88da-0242ac110002",
       "previous": "2783394e-8e81-11e9-88da-0242ac110002"
      },
      {
       "current": "4c72da28-4630-11e9-b072-0242ac110002",
       "next": "4c72da28-4630-11e9-b072-0242ac110002",
       "previous": "2783394e-8e81-11e9-88da-0242ac110002"
      },
      {
       "current": "4c72da28-4630-11e9-b072-0242ac110002",
       "next": "7330f6e0-8cd0-11e9-88da-0242ac110002",
       "previous": "2783394e-8e81-11e9-88da-0242ac110002"
      },
      {
       "current": "4c72da28-4630-11e9-b072-0242ac110002",
       "next": "7330f6e0-8cd0-11e9-88da-0242ac110002",
       "previous": "bdc94ac4-4633-11e9-b072-0242ac110002"
      },
      {
       "current": "4c72da28-4630-11e9-b072-0242ac110002",
       "next": "6111f964-2b09-11ea-9618-0242ac110002",
       "previous": "bdc94ac4-4633-11e9-b072-0242ac110002"
      },
      {
       "current": "4c72da28-4630-11e9-b072-0242ac110002",
       "next": "f01f5ea8-2b09-11ea-9618-0242ac110002",
       "previous": "bdc94ac4-4633-11e9-b072-0242ac110002"
      },
      {
       "current": "4c72da28-4630-11e9-b072-0242ac110002-1-5b9f",
       "next": "7330f6e0-8cd0-11e9-88da-0242ac110002",
       "previous": "bdc94ac4-4633-11e9-b072-0242ac110002"
      }
     ],
     "next": "7330f6e0-8cd0-11e9-88da-0242ac110002-1-8d47",
     "previous": "bdc94ac4-4633-11e9-b072-0242ac110002-1-9b75"
    },
    "lc_wrapper": {
     "log_history": [
      "/notebooks/notebook/.log/20191230/20191230-220910-0083.log",
      "/notebooks/notebook/.log/20191230/20191230-220933-0061.log",
      "/notebooks/notebook/.log/20191230/20191230-225026-0648.log",
      "/notebooks/notebook/.log/20200129/20200129-233806-0874.log",
      "/notebooks/notebook/.log/20200130/20200130-000341-0834.log",
      "/notebooks/notebook/.log/20200130/20200130-000407-0771.log",
      "/notebooks/notebook/.log/20200130/20200130-125410-0896.log",
      "/notebooks/notebook/.log/20200130/20200130-142513-0077.log",
      "/notebooks/notebook/.log/20200313/20200313-165243-0013.log",
      "/notebooks/notebook/.log/20200313/20200313-200608-0474.log",
      "/notebooks/notebook/.log/20200314/20200314-004223-0807.log",
      "/notebooks/notebook/.log/20200315/20200315-005751-0882.log",
      "/notebooks/notebook/.log/20200315/20200315-105619-0553.log",
      "/notebooks/notebook/kanda/.log/20200804/20200804-013639-0522.log",
      "/notebooks/notebook/kanda/.log/20200804/20200804-145729-0226.log",
      "/notebooks/notebook/kanda/.log/20200804/20200804-150357-0694.log",
      "/notebooks/notebook/kanda/.log/20200804/20200804-150554-0123.log",
      "/notebooks/notebook/kanda/.log/20200804/20200804-150632-0528.log",
      "/notebooks/notebook/kanda/.log/20200804/20200804-155500-0399.log"
     ]
    }
   },
   "outputs": [],
   "source": [
    "# UnitGroupの作成\n",
    "unit_group = vcp.create_ugroup(\n",
    "    'testunit'    # UnitGroupの名前\n",
    ")\n",
    "\n",
    "# flavorの指定\n",
    "spec = vcp.get_spec('vmware', 'small')\n",
    "\n",
    "#\n",
    "# 設定例\n",
    "#\n",
    "#spec.num_nodes = 1\n",
    "#spec.ip_addresses = ['起動するnodeの静的なIPアドレス']\n",
    "\n",
    "# docker run のオプション指定 （-v -e）\n",
    "#spec.params_v = ['/opt:/opt']\n",
    "#spec.params_e = ['USER_NAME=test']\n",
    "\n",
    "# VMware 依存\n",
    "#   https://www.terraform.io/docs/providers/vsphere/index.html\n",
    "# spec.num_cpus = 4\n",
    "# spec.memory = 1024 # MB\n",
    "# spec.disk_size = 80\n",
    "# ※ テンプレートを使用する場合にテンプレートのディスクサイズより小さい disk_size を指定するとエラーになります。\n",
    "#    テンプレートより大きい disk_size を指定した場合は成功しますが、パーティションの拡張や追加はされないので、\n",
    "#    拡張したディスク領域を使用するためには、別途パーティションの拡張や追加の作業が必要になります。\n",
    "\n",
    "# クラウドイメージ(テンプレートとするVMWareの仮想マシンの名前)\n",
    "# spec.cloud_image = 'vcp-template-xxxx'\n",
    "\n",
    "# base containerにssh loginするためのssh公開鍵情報を設定\n",
    "# spec.set_ssh_pubkey('/home/jovyan/.ssh/id_rsa.pub')\n",
    "\n",
    "spec.ip_addresses = ['y.y.y.y']  # 使用するIPアドレスを指定ください\n",
    "spec.disk_size = 80\n",
    "spec.cloud_image = 'vcp-template'\n",
    "\n",
    "spec.set_ssh_pubkey('/home/jovyan/.ssh/id_rsa.pub')\n",
    "\n",
    "unit = unit_group.create_unit(\n",
    "    'testserver',    # Unit名の指定\n",
    "    spec\n",
    ")\n"
   ]
  },
  {
   "cell_type": "markdown",
   "metadata": {
    "lc_cell_meme": {
     "current": "7330f6e0-8cd0-11e9-88da-0242ac110002-1-8d47",
     "history": [
      {
       "current": "7330f6e0-8cd0-11e9-88da-0242ac110002",
       "next": "e42198f6-8ccf-11e9-88da-0242ac110002",
       "previous": "4c72da28-4630-11e9-b072-0242ac110002"
      },
      {
       "current": "7330f6e0-8cd0-11e9-88da-0242ac110002",
       "next": "e42198f6-8ccf-11e9-88da-0242ac110002",
       "previous": "6111f964-2b09-11ea-9618-0242ac110002"
      },
      {
       "current": "7330f6e0-8cd0-11e9-88da-0242ac110002",
       "next": "e42198f6-8ccf-11e9-88da-0242ac110002",
       "previous": "37a60e34-2b0a-11ea-9618-0242ac110002"
      },
      {
       "current": "7330f6e0-8cd0-11e9-88da-0242ac110002-1-8d47",
       "next": "e42198f6-8ccf-11e9-88da-0242ac110002",
       "previous": "4c72da28-4630-11e9-b072-0242ac110002"
      }
     ],
     "next": "e42198f6-8ccf-11e9-88da-0242ac110002-1-e9aa",
     "previous": "4c72da28-4630-11e9-b072-0242ac110002-1-5b9f"
    }
   },
   "source": [
    "### もしエラーが発生したら...\n",
    "\n",
    "クラウドのクレデンシャル情報が正しくない場合、以下のようなエラーが発生します。  \n",
    "Valut に設定した内容を確認してください。\n",
    "\n",
    "```\n",
    "*** HAS ERROR:\n",
    "---\n",
    "2019/06/12 05:09:13 UTC: * provider.aws: InvalidClientTokenId: The security token included in the request is invalid.\n",
    "---\n",
    "```"
   ]
  },
  {
   "cell_type": "markdown",
   "metadata": {
    "lc_cell_meme": {
     "current": "e42198f6-8ccf-11e9-88da-0242ac110002-1-e9aa",
     "history": [
      {
       "current": "e42198f6-8ccf-11e9-88da-0242ac110002",
       "next": "9c9b5ed6-8ccf-11e9-88da-0242ac110002",
       "previous": "4c72da28-4630-11e9-b072-0242ac110002"
      },
      {
       "current": "e42198f6-8ccf-11e9-88da-0242ac110002-1-e9aa",
       "next": "9c9b5ed6-8ccf-11e9-88da-0242ac110002",
       "previous": "7330f6e0-8cd0-11e9-88da-0242ac110002"
      }
     ],
     "next": "9c9b5ed6-8ccf-11e9-88da-0242ac110002-1-9fc9",
     "previous": "7330f6e0-8cd0-11e9-88da-0242ac110002-1-8d47"
    }
   },
   "source": [
    "## 起動したVCノードの確認\n",
    "\n",
    "次のセルを実行し、起動したVCノードを確認してください。"
   ]
  },
  {
   "cell_type": "code",
   "execution_count": null,
   "metadata": {
    "lc_cell_meme": {
     "current": "9c9b5ed6-8ccf-11e9-88da-0242ac110002-1-9fc9",
     "history": [
      {
       "current": "9c9b5ed6-8ccf-11e9-88da-0242ac110002",
       "next": "a421b3ce-4636-11e9-b072-0242ac110002",
       "previous": "4c72da28-4630-11e9-b072-0242ac110002"
      },
      {
       "current": "9c9b5ed6-8ccf-11e9-88da-0242ac110002",
       "next": "a421b3ce-4636-11e9-b072-0242ac110002",
       "previous": "e42198f6-8ccf-11e9-88da-0242ac110002"
      },
      {
       "current": "9c9b5ed6-8ccf-11e9-88da-0242ac110002-1-9fc9",
       "next": "10ee5e4e-8e85-11e9-88da-0242ac110002",
       "previous": "e42198f6-8ccf-11e9-88da-0242ac110002"
      }
     ],
     "next": "10ee5e4e-8e85-11e9-88da-0242ac110002-1-ed88",
     "previous": "e42198f6-8ccf-11e9-88da-0242ac110002-1-e9aa"
    },
    "lc_wrapper": {
     "log_history": [
      "/notebooks/notebook/.log/20191230/20191230-221143-0976.log",
      "/notebooks/notebook/.log/20191230/20191230-225235-0875.log",
      "/notebooks/notebook/.log/20200130/20200130-001512-0940.log",
      "/notebooks/notebook/.log/20200130/20200130-130333-0992.log",
      "/notebooks/notebook/.log/20200130/20200130-143325-0876.log",
      "/notebooks/notebook/.log/20200313/20200313-165928-0072.log",
      "/notebooks/notebook/.log/20200313/20200313-202323-0617.log",
      "/notebooks/notebook/.log/20200314/20200314-005727-0320.log",
      "/notebooks/notebook/.log/20200315/20200315-010527-0748.log",
      "/notebooks/notebook/.log/20200315/20200315-202811-0271.log",
      "/notebooks/notebook/kanda/.log/20200804/20200804-152820-0445.log",
      "/notebooks/notebook/kanda/.log/20200804/20200804-161126-0253.log"
     ]
    }
   },
   "outputs": [],
   "source": [
    "unit.df_nodes()"
   ]
  },
  {
   "cell_type": "markdown",
   "metadata": {
    "lc_cell_meme": {
     "current": "10ee5e4e-8e85-11e9-88da-0242ac110002-1-ed88",
     "history": [
      {
       "current": "10ee5e4e-8e85-11e9-88da-0242ac110002",
       "next": "ac86ca76-8cb4-11e9-88da-0242ac110002",
       "previous": "a421b3ce-4636-11e9-b072-0242ac110002"
      },
      {
       "current": "10ee5e4e-8e85-11e9-88da-0242ac110002",
       "next": "10ee5e4e-8e85-11e9-88da-0242ac110002",
       "previous": "a421b3ce-4636-11e9-b072-0242ac110002"
      },
      {
       "current": "10ee5e4e-8e85-11e9-88da-0242ac110002-1-ed88",
       "next": "10ee5e4e-8e85-11e9-88da-0242ac110002",
       "previous": "9c9b5ed6-8ccf-11e9-88da-0242ac110002"
      }
     ],
     "next": "10ee5e4e-8e85-11e9-88da-0242ac110002-1-c85c",
     "previous": "9c9b5ed6-8ccf-11e9-88da-0242ac110002-1-9fc9"
    }
   },
   "source": [
    "## VCノードへのsshログイン\n",
    "\n",
    "JupyterNotebook の Terminal 機能を用いて、作成したVCノードにsshログインすることができます。  \n",
    "VCノードのIPアドレスは上記の `unit.df_nodes()` の出力に含まれています。\n",
    "\n",
    "```\n",
    "$ ssh -i ~/.ssh/id_rsa root@{cloud_instance_address}\n",
    "```"
   ]
  },
  {
   "cell_type": "markdown",
   "metadata": {
    "lc_cell_meme": {
     "current": "10ee5e4e-8e85-11e9-88da-0242ac110002-1-c85c",
     "history": [
      {
       "current": "10ee5e4e-8e85-11e9-88da-0242ac110002",
       "next": "ac86ca76-8cb4-11e9-88da-0242ac110002",
       "previous": "a421b3ce-4636-11e9-b072-0242ac110002"
      },
      {
       "current": "10ee5e4e-8e85-11e9-88da-0242ac110002",
       "next": "ac86ca76-8cb4-11e9-88da-0242ac110002",
       "previous": "10ee5e4e-8e85-11e9-88da-0242ac110002"
      },
      {
       "current": "10ee5e4e-8e85-11e9-88da-0242ac110002-1-c85c",
       "next": "973a10fe-427d-11ea-9618-0242ac110002",
       "previous": "10ee5e4e-8e85-11e9-88da-0242ac110002"
      }
     ],
     "next": "973a10fe-427d-11ea-9618-0242ac110002-1-f5ea",
     "previous": "10ee5e4e-8e85-11e9-88da-0242ac110002-1-ed88"
    }
   },
   "source": [
    "## GrafanaでVCノードの利用状況を確認する"
   ]
  },
  {
   "cell_type": "markdown",
   "metadata": {
    "lc_cell_meme": {
     "current": "973a10fe-427d-11ea-9618-0242ac110002-1-f5ea",
     "execution_end_time": "2020-01-29T09:56:01.445704Z",
     "history": [
      {
       "current": "973a10fe-427d-11ea-9618-0242ac110002",
       "next": "ac86ca76-8cb4-11e9-88da-0242ac110002",
       "previous": "10ee5e4e-8e85-11e9-88da-0242ac110002"
      },
      {
       "current": "973a10fe-427d-11ea-9618-0242ac110002",
       "next": "9a8d8662-4289-11ea-9618-0242ac110002",
       "previous": "10ee5e4e-8e85-11e9-88da-0242ac110002"
      },
      {
       "current": "973a10fe-427d-11ea-9618-0242ac110002",
       "next": "ac86ca76-8cb4-11e9-88da-0242ac110002",
       "previous": "10ee5e4e-8e85-11e9-88da-0242ac110002"
      },
      {
       "current": "973a10fe-427d-11ea-9618-0242ac110002-1-f5ea",
       "next": "a1aa6c38-6518-11ea-9d1b-0242ac110004",
       "previous": "10ee5e4e-8e85-11e9-88da-0242ac110002"
      }
     ],
     "next": "a1aa6c38-6518-11ea-9d1b-0242ac110004-1-65eb",
     "previous": "10ee5e4e-8e85-11e9-88da-0242ac110002-1-c85c"
    },
    "lc_wrapper": {
     "log_history": [
      "/notebooks/notebook/.log/20200129/20200129-185601-0439.log"
     ]
    }
   },
   "source": [
    "[Grafana](http://133.8.140.6:3000/d/vcp/vcp-metrics?refresh=5s) からダッシュボードを開いてください。\n",
    "\n",
    "最初にログイン画面が表示されるので ユーザ名、パスワードにそれぞれ `admin`, `admin`を入力してください。 \n",
    "\n",
    "ログインすると負荷状況のグラフが表示されます。左半分のグラフがBaseコンテナの負荷状況で、右半分がアプリケーションコンテナの負荷状況のグラフです。\n",
    "\n",
    "アプリケーションコンテナを立ち上げると右側にもグラフが表示されます。(stress コマンドを実行)"
   ]
  },
  {
   "cell_type": "code",
   "execution_count": null,
   "metadata": {
    "lc_cell_meme": {
     "current": "a1aa6c38-6518-11ea-9d1b-0242ac110004-1-65eb",
     "history": [
      {
       "current": "a1aa6c38-6518-11ea-9d1b-0242ac110004",
       "next": "ac86ca76-8cb4-11e9-88da-0242ac110002",
       "previous": "973a10fe-427d-11ea-9618-0242ac110002"
      },
      {
       "current": "a1aa6c38-6518-11ea-9d1b-0242ac110004",
       "next": "e39c6a5e-66d2-11ea-9d1b-0242ac110004",
       "previous": "973a10fe-427d-11ea-9618-0242ac110002"
      },
      {
       "current": "a1aa6c38-6518-11ea-9d1b-0242ac110004-1-65eb",
       "next": "ac86ca76-8cb4-11e9-88da-0242ac110002",
       "previous": "973a10fe-427d-11ea-9618-0242ac110002"
      }
     ],
     "next": "ac86ca76-8cb4-11e9-88da-0242ac110002-1-f44a",
     "previous": "973a10fe-427d-11ea-9618-0242ac110002-1-f5ea"
    },
    "lc_wrapper": {
     "log_history": [
      "/notebooks/notebook/.log/20200313/20200313-195436-0308.log",
      "/notebooks/notebook/.log/20200313/20200313-195526-0705.log",
      "/notebooks/notebook/.log/20200313/20200313-202809-0884.log",
      "/notebooks/notebook/.log/20200313/20200313-203510-0484.log",
      "/notebooks/notebook/.log/20200313/20200313-203717-0075.log",
      "/notebooks/notebook/.log/20200313/20200313-203850-0611.log",
      "/notebooks/notebook/.log/20200314/20200314-005757-0334.log",
      "/notebooks/notebook/.log/20200314/20200314-005910-0327.log",
      "/notebooks/notebook/.log/20200314/20200314-010118-0450.log",
      "/notebooks/notebook/.log/20200315/20200315-010541-0909.log",
      "/notebooks/notebook/.log/20200315/20200315-202820-0774.log",
      "/notebooks/notebook/kanda/.log/20200804/20200804-153235-0288.log"
     ]
    }
   },
   "outputs": [],
   "source": [
    "# unit_group.find_ip_addresses() は UnitGroup内の全VCノードのIPアドレスのリストを返します\n",
    "ip_address = unit_group.find_ip_addresses(node_state='RUNNING')[0] # 今は１つのVCノードのみ起動しているので [0] で最初の要素を取り出す\n",
    "\n",
    "import os\n",
    "ssh_private_key = os.path.expanduser('~/.ssh/id_rsa')\n",
    "\n",
    "# 60秒間だけ CPU x 2 とメモリ 128 MB を消費する\n",
    "!ssh -i {ssh_private_key} -l root {ip_address} \\\n",
    "    /usr/local/bin/docker run -td --rm --name stress-0 polinux/stress \\\n",
    "    stress --cpu 2 --io 1 --vm 2 --vm-bytes 128M --timeout 60s --verbose"
   ]
  },
  {
   "cell_type": "markdown",
   "metadata": {
    "lc_cell_meme": {
     "current": "ac86ca76-8cb4-11e9-88da-0242ac110002-1-f44a",
     "history": [
      {
       "current": "ac86ca76-8cb4-11e9-88da-0242ac110002",
       "next": "db854dd6-4630-11e9-b072-0242ac110002",
       "previous": "a421b3ce-4636-11e9-b072-0242ac110002"
      },
      {
       "current": "ac86ca76-8cb4-11e9-88da-0242ac110002",
       "next": "db854dd6-4630-11e9-b072-0242ac110002",
       "previous": "10ee5e4e-8e85-11e9-88da-0242ac110002"
      },
      {
       "current": "ac86ca76-8cb4-11e9-88da-0242ac110002",
       "next": "db854dd6-4630-11e9-b072-0242ac110002",
       "previous": "973a10fe-427d-11ea-9618-0242ac110002"
      },
      {
       "current": "ac86ca76-8cb4-11e9-88da-0242ac110002",
       "next": "db854dd6-4630-11e9-b072-0242ac110002",
       "previous": "9a8d8662-4289-11ea-9618-0242ac110002"
      },
      {
       "current": "ac86ca76-8cb4-11e9-88da-0242ac110002",
       "next": "db854dd6-4630-11e9-b072-0242ac110002",
       "previous": "973a10fe-427d-11ea-9618-0242ac110002"
      },
      {
       "current": "ac86ca76-8cb4-11e9-88da-0242ac110002",
       "next": "db854dd6-4630-11e9-b072-0242ac110002",
       "previous": "a1aa6c38-6518-11ea-9d1b-0242ac110004"
      },
      {
       "current": "ac86ca76-8cb4-11e9-88da-0242ac110002",
       "next": "db854dd6-4630-11e9-b072-0242ac110002",
       "previous": "e39c6a5e-66d2-11ea-9d1b-0242ac110004"
      },
      {
       "current": "ac86ca76-8cb4-11e9-88da-0242ac110002-1-f44a",
       "next": "db854dd6-4630-11e9-b072-0242ac110002",
       "previous": "a1aa6c38-6518-11ea-9d1b-0242ac110004"
      }
     ],
     "next": "db854dd6-4630-11e9-b072-0242ac110002-1-1215",
     "previous": "a1aa6c38-6518-11ea-9d1b-0242ac110004-1-65eb"
    }
   },
   "source": [
    "## VCノードの削除\n",
    "次のセルを実行し、動作確認に使用したクラウドインスタンスを削除してください。  \n",
    "実行完了まで数分程度を要します。"
   ]
  },
  {
   "cell_type": "code",
   "execution_count": null,
   "metadata": {
    "lc_cell_meme": {
     "current": "db854dd6-4630-11e9-b072-0242ac110002-1-1215",
     "history": [
      {
       "current": "db854dd6-4630-11e9-b072-0242ac110002",
       "next": null,
       "previous": "93f97118-4630-11e9-b072-0242ac110002"
      },
      {
       "current": "db854dd6-4630-11e9-b072-0242ac110002",
       "next": null,
       "previous": "a421b3ce-4636-11e9-b072-0242ac110002"
      },
      {
       "current": "db854dd6-4630-11e9-b072-0242ac110002",
       "next": "fb58a0c6-4636-11e9-b072-0242ac110002",
       "previous": "a421b3ce-4636-11e9-b072-0242ac110002"
      },
      {
       "current": "db854dd6-4630-11e9-b072-0242ac110002",
       "next": null,
       "previous": "ac86ca76-8cb4-11e9-88da-0242ac110002"
      },
      {
       "current": "db854dd6-4630-11e9-b072-0242ac110002",
       "next": null,
       "previous": "ac86ca76-8cb4-11e9-88da-0242ac110002"
      },
      {
       "current": "db854dd6-4630-11e9-b072-0242ac110002",
       "next": null,
       "previous": "ac86ca76-8cb4-11e9-88da-0242ac110002"
      },
      {
       "current": "db854dd6-4630-11e9-b072-0242ac110002",
       "next": "4672985e-998a-11e9-88da-0242ac110002",
       "previous": "ac86ca76-8cb4-11e9-88da-0242ac110002"
      },
      {
       "current": "db854dd6-4630-11e9-b072-0242ac110002",
       "next": null,
       "previous": "ac86ca76-8cb4-11e9-88da-0242ac110002"
      },
      {
       "current": "db854dd6-4630-11e9-b072-0242ac110002-1-1215",
       "next": "f01f5ea8-2b09-11ea-9618-0242ac110002",
       "previous": "ac86ca76-8cb4-11e9-88da-0242ac110002"
      }
     ],
     "next": "f01f5ea8-2b09-11ea-9618-0242ac110002-1-90b8",
     "previous": "ac86ca76-8cb4-11e9-88da-0242ac110002-1-f44a"
    },
    "lc_wrapper": {
     "log_history": [
      "/notebooks/notebook/.log/20191230/20191230-230429-0901.log",
      "/notebooks/notebook/.log/20200130/20200130-001846-0832.log",
      "/notebooks/notebook/.log/20200130/20200130-124250-0111.log",
      "/notebooks/notebook/.log/20200130/20200130-130652-0214.log",
      "/notebooks/notebook/.log/20200313/20200313-193237-0469.log",
      "/notebooks/notebook/.log/20200313/20200313-204325-0944.log",
      "/notebooks/notebook/.log/20200314/20200314-010159-0547.log",
      "/notebooks/notebook/.log/20200315/20200315-010842-0575.log",
      "/notebooks/notebook/.log/20200315/20200315-210821-0148.log",
      "/notebooks/notebook/kanda/.log/20200804/20200804-154659-0092.log",
      "/notebooks/notebook/kanda/.log/20200804/20200804-161105-0596.log"
     ]
    }
   },
   "outputs": [],
   "source": [
    "unit_group.cleanup()"
   ]
  },
  {
   "cell_type": "code",
   "execution_count": null,
   "metadata": {
    "lc_cell_meme": {
     "current": "f01f5ea8-2b09-11ea-9618-0242ac110002-1-90b8",
     "history": [
      {
       "current": "f01f5ea8-2b09-11ea-9618-0242ac110002",
       "next": "6111f964-2b09-11ea-9618-0242ac110002",
       "previous": "4c72da28-4630-11e9-b072-0242ac110002"
      },
      {
       "current": "f01f5ea8-2b09-11ea-9618-0242ac110002",
       "next": "37a60e34-2b0a-11ea-9618-0242ac110002",
       "previous": "4c72da28-4630-11e9-b072-0242ac110002"
      },
      {
       "current": "f01f5ea8-2b09-11ea-9618-0242ac110002",
       "next": "37a60e34-2b0a-11ea-9618-0242ac110002",
       "previous": "db854dd6-4630-11e9-b072-0242ac110002"
      },
      {
       "current": "f01f5ea8-2b09-11ea-9618-0242ac110002",
       "next": null,
       "previous": "db854dd6-4630-11e9-b072-0242ac110002"
      },
      {
       "current": "f01f5ea8-2b09-11ea-9618-0242ac110002-1-90b8",
       "next": null,
       "previous": "db854dd6-4630-11e9-b072-0242ac110002"
      },
      {
       "current": "f01f5ea8-2b09-11ea-9618-0242ac110002-1-90b8",
       "next": null,
       "previous": "db854dd6-4630-11e9-b072-0242ac110002-1-1215"
      }
     ],
     "next": null,
     "previous": "db854dd6-4630-11e9-b072-0242ac110002-1-1215"
    },
    "lc_wrapper": {
     "log_history": [
      "/notebooks/notebook/.log/20191230/20191230-224046-0099.log",
      "/notebooks/notebook/.log/20191230/20191230-224048-0278.log",
      "/notebooks/notebook/.log/20191230/20191230-224630-0131.log",
      "/notebooks/notebook/.log/20191230/20191230-224821-0572.log",
      "/notebooks/notebook/.log/20191230/20191230-224840-0018.log",
      "/notebooks/notebook/.log/20191230/20191230-224904-0125.log",
      "/notebooks/notebook/.log/20191230/20191230-230653-0815.log",
      "/notebooks/notebook/.log/20200130/20200130-002004-0606.log",
      "/notebooks/notebook/.log/20200130/20200130-124452-0062.log",
      "/notebooks/notebook/.log/20200130/20200130-130923-0147.log",
      "/notebooks/notebook/.log/20200313/20200313-193855-0817.log",
      "/notebooks/notebook/.log/20200313/20200313-204143-0856.log",
      "/notebooks/notebook/.log/20200313/20200313-204411-0956.log",
      "/notebooks/notebook/.log/20200314/20200314-010141-0031.log",
      "/notebooks/notebook/.log/20200314/20200314-015054-0629.log",
      "/notebooks/notebook/.log/20200315/20200315-230303-0592.log",
      "/notebooks/notebook/kanda/.log/20200804/20200804-154730-0060.log"
     ]
    }
   },
   "outputs": [],
   "source": [
    "vcp.df_ugroups()"
   ]
  }
 ],
 "metadata": {
  "kernelspec": {
   "display_name": "Python 3",
   "language": "python",
   "name": "python3"
  },
  "language_info": {
   "file_extension": ".py",
   "mimetype": "text/x-python",
   "name": "python",
   "nbconvert_exporter": "python",
   "pygments_lexer": "ipython3",
   "version": "3.7.3"
  },
  "lc_notebook_meme": {
   "current": "e190f7d2-4574-11e9-b072-0242ac110002",
   "lc_server_signature": {
    "current": {
     "notebook_dir": "/home/yoko69d621",
     "notebook_path": "/test",
     "server_url": "https://nb03.ecloud.nii.ac.jp/user/yoko69d621/",
     "signature_id": "5e786c6e-5fea-11e9-b810-02420a00005a"
    },
    "history": [
     {
      "notebook_dir": "/notebooks/notebook",
      "notebook_path": "/vcpsdk/動作確認",
      "server_url": "http://13.114.71.115/jupyter/",
      "signature_id": "b7cae6dc-3a3a-11e9-b072-0242ac110002"
     },
     {
      "notebook_dir": "/notebooks/notebook",
      "notebook_path": "/",
      "server_url": "http://13.114.71.115/jupyter/",
      "signature_id": "b7cae6dc-3a3a-11e9-b072-0242ac110002"
     },
     {
      "notebook_dir": "/notebooks/notebook",
      "notebook_path": "/BACKUP",
      "server_url": "http://13.114.71.115/jupyter/",
      "signature_id": "215bf5ce-5f4c-11e9-88da-0242ac110002"
     },
     {
      "notebook_dir": "/notebooks/notebook",
      "notebook_path": "/",
      "server_url": "http://13.114.71.115/jupyter/",
      "signature_id": "215bf5ce-5f4c-11e9-88da-0242ac110002"
     },
     {
      "notebook_dir": "/notebooks/notebook",
      "notebook_path": "/",
      "server_url": "http://localhost:5965/jupyter/",
      "signature_id": "215bf5ce-5f4c-11e9-88da-0242ac110002"
     },
     {
      "notebook_dir": "/notebooks/notebook",
      "notebook_path": "/wada_work",
      "server_url": "http://localhost:5965/jupyter/",
      "signature_id": "320d6062-22ea-11ea-9618-0242ac110002"
     },
     {
      "notebook_dir": "/notebooks/notebook",
      "notebook_path": "/",
      "server_url": "http://vcc1045.vcp-handson.org/jupyter/",
      "signature_id": "320d6062-22ea-11ea-9618-0242ac110002"
     },
     {
      "notebook_dir": "/notebooks/notebook",
      "notebook_path": "/",
      "server_url": "https://vcc586.vcp-handson.org/develop/",
      "signature_id": "9ca816d8-2547-11ea-9d1b-0242ac110004"
     },
     {
      "notebook_dir": "/notebooks/notebook",
      "notebook_path": "/",
      "server_url": "https://vcc1044.vcp-handson.org/jupyter/",
      "signature_id": "cf1d2b1a-c68e-11ea-afef-0242ac110002"
     },
     {
      "notebook_dir": "/notebooks/notebook",
      "notebook_path": "/kanda",
      "server_url": "https://vcsa.vcp-handson.org/red/",
      "signature_id": "760f7ede-b9d1-11ea-bcd5-0242ac110002"
     }
    ]
   }
  },
  "toc": {
   "base_numbering": 1,
   "nav_menu": {},
   "number_sections": true,
   "sideBar": true,
   "skip_h1_title": false,
   "title_cell": "Table of Contents",
   "title_sidebar": "Contents",
   "toc_cell": false,
   "toc_position": {
    "height": "826px",
    "left": "0px",
    "right": "1202px",
    "top": "111px",
    "width": "213px"
   },
   "toc_section_display": "block",
   "toc_window_display": true
  }
 },
 "nbformat": 4,
 "nbformat_minor": 2
}
